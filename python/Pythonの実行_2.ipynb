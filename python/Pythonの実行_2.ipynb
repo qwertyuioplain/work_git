{
  "nbformat": 4,
  "nbformat_minor": 0,
  "metadata": {
    "kernelspec": {
      "name": "Python 3.8.3 64-bit ('base': conda)",
      "display_name": "Python 3.8.3 64-bit ('base': conda)",
      "metadata": {
        "interpreter": {
          "hash": "45be26d5995aa72b817e126f9330b420a30ad5ca32bb101e9fc9960b8e1a9008"
        }
      }
    },
    "language_info": {
      "codemirror_mode": {
        "name": "ipython",
        "version": 3
      },
      "file_extension": ".py",
      "mimetype": "text/x-python",
      "name": "python",
      "nbconvert_exporter": "python",
      "pygments_lexer": "ipython3",
      "version": "3.8.3-final"
    },
    "colab": {
      "name": "Pythonの実行2.ipynb",
      "provenance": [],
      "collapsed_sections": []
    }
  },
  "cells": [
    {
      "cell_type": "markdown",
      "metadata": {
        "id": "jD-G55Xmd9To"
      },
      "source": [
        "# Pythonの実行 2"
      ]
    },
    {
      "cell_type": "markdown",
      "metadata": {
        "id": "Swy17RbKd9Uv"
      },
      "source": [
        "## 配列"
      ]
    },
    {
      "cell_type": "markdown",
      "metadata": {
        "id": "F9CWUAiHd9Ux"
      },
      "source": [
        "配列の宣言は\n",
        "\n",
        "    array1 = []\n",
        "もしくは\n",
        "\n",
        "    array1 = list()\n",
        "で行う\n",
        "\n",
        "    array1 = [1,2,3]\n",
        "    array2 = [4,5,6]\n",
        "の形で初期化も可能"
      ]
    },
    {
      "cell_type": "code",
      "metadata": {
        "id": "3-u_v1ZYd9Uz",
        "outputId": "25b974c2-8e81-4ac2-8e81-a659325d4866",
        "colab": {
          "base_uri": "https://localhost:8080/",
          "height": 86
        }
      },
      "source": [
        "array1 = [1,2,3]\n",
        "array2 = [4,5,6]\n",
        "#代入\n",
        "array3 = array2\n",
        "print(array3)\n",
        "#結合\n",
        "array3.extend(array1)\n",
        "print(array3)\n",
        "#ソート\n",
        "array3.sort()\n",
        "print(array3)\n",
        "#逆順\n",
        "array3.reverse()\n",
        "print(array3)"
      ],
      "execution_count": 1,
      "outputs": [
        {
          "output_type": "stream",
          "name": "stdout",
          "text": [
            "[4, 5, 6]\n[4, 5, 6, 1, 2, 3]\n[1, 2, 3, 4, 5, 6]\n[6, 5, 4, 3, 2, 1]\n"
          ]
        }
      ]
    },
    {
      "cell_type": "markdown",
      "metadata": {
        "id": "R35VCTSvd9U6"
      },
      "source": [
        "## 条件分岐"
      ]
    },
    {
      "cell_type": "markdown",
      "metadata": {
        "id": "tJoQU9gad9U8"
      },
      "source": [
        "if文による条件分岐の基本的な形は以下のようになる <br>\n",
        "\n",
        "    if 条件式1: \n",
        "        '条件式1がTrueの時に行う処理' \n",
        "    elif 条件式2: \n",
        "        '条件式1がFalseで条件式2がTrueの時に行う処理'\n",
        "    elif 条件式3: \n",
        "        '条件式1,2がFalseで条件式3がTrueの時に行う処理'\n",
        "    ...\n",
        "    else:\n",
        "        '全ての条件式がFalseのときに行う処理'"
      ]
    },
    {
      "cell_type": "code",
      "metadata": {
        "id": "ITcRuEk6d9U-",
        "outputId": "ce768cd1-de5c-410e-bb8a-771186c248c2",
        "colab": {
          "base_uri": "https://localhost:8080/",
          "height": 34
        }
      },
      "source": [
        "num1 = 100\n",
        "num2 = 200\n",
        "if num1 < num2:\n",
        "    print(\"num2のほうが大きい\")\n",
        "else :\n",
        "    print(\"num1のほうが大きい\")\n"
      ],
      "execution_count": 1,
      "outputs": [
        {
          "output_type": "stream",
          "name": "stdout",
          "text": [
            "num2のほうが大きい\n"
          ]
        }
      ]
    },
    {
      "cell_type": "markdown",
      "metadata": {
        "id": "177pVGxJd9VG"
      },
      "source": [
        "## ループ処理\n"
      ]
    },
    {
      "cell_type": "markdown",
      "metadata": {
        "id": "1Sx_-vpkd9VI"
      },
      "source": [
        "for文によるループの基本的な形は以下のようになる <br>\n",
        "\n",
        "    for 変数名 in イテラブルオブジェクト:\n",
        "        処理\n",
        "イテラブルオブジェクトの内容が順番に変数に代入され処理が繰り返される。\n",
        "<br>※イテラブルオブジェクトとは、複数の要素が入った繰り返し処理可能なオブジェクト<br>\n",
        "配列はイテラブルオブジェクトの一つ"
      ]
    },
    {
      "cell_type": "code",
      "metadata": {
        "id": "gV8k6a8Yd9VI",
        "outputId": "27aabcad-a3f1-4197-a483-766920c474bf",
        "colab": {
          "base_uri": "https://localhost:8080/",
          "height": 156
        }
      },
      "source": [
        "array1 = [\"a\",\"b\",\"c\"]#文字の入った配列\n",
        "for i in array1:\n",
        "    print(i) #iに\"a\",\"b\",\"c\"が順番に入る\n",
        "    \n",
        "#rangeを用いるとカウンタを利用できる\n",
        "for i in range(3):\n",
        "    print(i, array1[i]) #iに0,1,2が順番に入る 配列array1に[]を使ってアクセスしている\n",
        "\n",
        "#if文との組み合わせ    \n",
        "for i in range(10):\n",
        "    if 4<i and i<7:\n",
        "        print(i)\n",
        "    "
      ],
      "execution_count": 1,
      "outputs": [
        {
          "output_type": "stream",
          "text": [
            "a\n",
            "b\n",
            "c\n",
            "0 a\n",
            "1 b\n",
            "2 c\n",
            "5\n",
            "6\n"
          ],
          "name": "stdout"
        }
      ]
    },
    {
      "cell_type": "markdown",
      "metadata": {
        "id": "yQ6qXEGQ-okJ"
      },
      "source": [
        "#課題"
      ]
    },
    {
      "cell_type": "markdown",
      "metadata": {
        "id": "wLlZhyxj-uid"
      },
      "source": [
        "10個の数値が入った配列array1内に10以上の数値がいくつあるかカウントして表示するコードを入力し，実行せよ"
      ]
    },
    {
      "cell_type": "code",
      "metadata": {
        "id": "qyePw7hD_WzW"
      },
      "source": [
        "array1 = [1,4,7,12,34,6,0,21,5,10] #数値の入った配列\n",
        "\n",
        "#countに10以上の数値がカウントされるようにする\n",
        "count = 0\n",
        "\n",
        "for i in array1: #iにarray1の中身が順番に入る\n",
        "  if i>=10: #この行のifに条件式を追加する\n",
        "    count+=1  #上のif文の条件を満たす場合countが1増える\n",
        "\n",
        "print(count)"
      ],
      "execution_count": 7,
      "outputs": [
        {
          "output_type": "stream",
          "name": "stdout",
          "text": [
            "4\n"
          ]
        }
      ]
    },
    {
      "cell_type": "code",
      "execution_count": null,
      "metadata": {},
      "outputs": [],
      "source": []
    }
  ]
}