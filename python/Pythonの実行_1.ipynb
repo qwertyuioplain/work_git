{
  "nbformat": 4,
  "nbformat_minor": 0,
  "metadata": {
    "kernelspec": {
      "name": "Python 3.8.3 64-bit ('base': conda)",
      "display_name": "Python 3.8.3 64-bit ('base': conda)",
      "metadata": {
        "interpreter": {
          "hash": "45be26d5995aa72b817e126f9330b420a30ad5ca32bb101e9fc9960b8e1a9008"
        }
      }
    },
    "language_info": {
      "codemirror_mode": {
        "name": "ipython",
        "version": 3
      },
      "file_extension": ".py",
      "mimetype": "text/x-python",
      "name": "python",
      "nbconvert_exporter": "python",
      "pygments_lexer": "ipython3",
      "version": "3.8.3-final"
    },
    "colab": {
      "name": "Pythonの実効_1.ipynb",
      "provenance": []
    }
  },
  "cells": [
    {
      "cell_type": "markdown",
      "metadata": {
        "id": "jD-G55Xmd9To"
      },
      "source": [
        "# Pythonの実行 1"
      ]
    },
    {
      "cell_type": "code",
      "metadata": {
        "id": "5x9kJpiKs7n9"
      },
      "source": [
        "エラー"
      ],
      "execution_count": 1,
      "outputs": [
        {
          "output_type": "error",
          "ename": "NameError",
          "evalue": "name 'エラー' is not defined",
          "traceback": [
            "\u001b[0;31m---------------------------------------------------------------------------\u001b[0m",
            "\u001b[0;31mNameError\u001b[0m                                 Traceback (most recent call last)",
            "\u001b[0;32m<ipython-input-1-addac0bc20fc>\u001b[0m in \u001b[0;36m<module>\u001b[0;34m\u001b[0m\n\u001b[0;32m----> 1\u001b[0;31m \u001b[0mエラー\u001b[0m\u001b[0;34m\u001b[0m\u001b[0;34m\u001b[0m\u001b[0m\n\u001b[0m",
            "\u001b[0;31mNameError\u001b[0m: name 'エラー' is not defined"
          ]
        }
      ]
    },
    {
      "cell_type": "markdown",
      "metadata": {
        "id": "vjvcfTcQd9Tv"
      },
      "source": [
        "## 変数の使い方"
      ]
    },
    {
      "cell_type": "markdown",
      "metadata": {
        "id": "5t-uBAQZd9Ty"
      },
      "source": [
        "|例|説明|\n",
        "|-|-|\n",
        "|num1 = 100 | 変数名の左に＝を挟んで値を代入する. |\n",
        "|num2 = 200 | |\n",
        "|num3,num4 = 300,400 | 連続して変数を定義して，<br>連続して値を代入することもできる． |\n",
        "\n"
      ]
    },
    {
      "cell_type": "code",
      "metadata": {
        "id": "s-8SuTbjd9T3"
      },
      "source": [
        "#\n",
        "num1 = 100\n",
        "num2 = 200\n",
        "num3,num4 = 300,400\n",
        "\n",
        "#以下のコードで変数を出力することができる \n",
        "print(\"num1=\",num1)\n",
        "print(\"num2=\",num2)\n",
        "print(\"num3=\",num3)\n",
        "print(\"num4=\",num4)"
      ],
      "execution_count": 2,
      "outputs": [
        {
          "output_type": "stream",
          "name": "stdout",
          "text": [
            "num1= 100\nnum2= 200\nnum3= 300\nnum4= 400\n"
          ]
        }
      ]
    },
    {
      "cell_type": "markdown",
      "metadata": {
        "id": "XCrDa3Kdd9UO"
      },
      "source": [
        "## データ型について"
      ]
    },
    {
      "cell_type": "markdown",
      "metadata": {
        "id": "oR7IITOHd9UQ"
      },
      "source": [
        "Pythonでは**変数の型を宣言する必要がない**．\n",
        "動的に型付けを行うため，代入された値によって型が自動的に判断される（これを動的型付けと呼ぶ）．\n"
      ]
    },
    {
      "cell_type": "code",
      "metadata": {
        "id": "gHnp-6lXd9US"
      },
      "source": [
        "num = 100\n",
        "pi = 3.14\n",
        "str_ = \"test\"\n",
        "\n",
        "print(\"num = \",num)\n",
        "print(\"pi = \",pi)\n",
        "print(\"str_ = \",str_)"
      ],
      "execution_count": 3,
      "outputs": [
        {
          "output_type": "stream",
          "name": "stdout",
          "text": [
            "num =  100\npi =  3.14\nstr_ =  test\n"
          ]
        }
      ]
    },
    {
      "cell_type": "markdown",
      "metadata": {
        "id": "UHvI4Ha1d9Uc"
      },
      "source": [
        "## 演算方法"
      ]
    },
    {
      "cell_type": "markdown",
      "metadata": {
        "id": "Cp_t9ovmd9Ud"
      },
      "source": [
        "四則演算（+,-,\\*,/,//） <br>\n",
        "余剰（%） <br>\n",
        "べき乗（\\*\\*） <br>\n",
        "(/)は結果を自然数で返す <br>\n",
        "(//)は結果を小数点以下を切り捨てた整数で返す <br>\n"
      ]
    },
    {
      "cell_type": "code",
      "metadata": {
        "scrolled": true,
        "id": "5HGRk7Wid9Uf"
      },
      "source": [
        "num1 = 100\n",
        "num2 = 0.5\n",
        "\n",
        "print(num1*num2)\n"
      ],
      "execution_count": 3,
      "outputs": [
        {
          "output_type": "stream",
          "name": "stdout",
          "text": [
            "50.0\n"
          ]
        }
      ]
    },
    {
      "cell_type": "markdown",
      "metadata": {
        "id": "eTq4QKz7cUSZ"
      },
      "source": [
        "## 課題\n",
        "num1とnum2の四則演算（+,-,*,/,//）の結果を示せ"
      ]
    },
    {
      "cell_type": "code",
      "metadata": {
        "scrolled": true,
        "id": "lRZNmw7Zc7_N"
      },
      "source": [
        "num1 = 10\n",
        "num2 = 20\n",
        "\n",
        "print(num1+num2)\n",
        "#ここに四則演算を記述\n",
        "print(num1-num2)\n",
        "print(num1*num2)\n",
        "print(num1/num2)\n",
        "print(num1//num2)\n"
      ],
      "execution_count": 5,
      "outputs": [
        {
          "output_type": "stream",
          "name": "stdout",
          "text": [
            "30\n-10\n200\n0.5\n0\n"
          ]
        }
      ]
    },
    {
      "cell_type": "code",
      "execution_count": null,
      "metadata": {},
      "outputs": [],
      "source": []
    }
  ]
}